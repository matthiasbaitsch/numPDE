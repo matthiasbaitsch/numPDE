{
 "cells": [
  {
   "cell_type": "markdown",
   "metadata": {},
   "source": [
    "# Test der Elementfunktionen Wärmeleitung 2D"
   ]
  },
  {
   "cell_type": "code",
   "execution_count": null,
   "metadata": {},
   "outputs": [],
   "source": [
    "using MMJMesh\n",
    "using MMJMesh.Meshes\n",
    "using MMJMesh.Plots\n",
    "import CairoMakie"
   ]
  },
  {
   "cell_type": "markdown",
   "metadata": {},
   "source": [
    "## Knoten eines Elements"
   ]
  },
  {
   "cell_type": "code",
   "execution_count": null,
   "metadata": {},
   "outputs": [],
   "source": [
    "coords = [0.0 1.2 0.3; 0.1 0.2 2.5];\n",
    "elts = [[1, 2, 3]]\n",
    "m = Mesh(coords, elts, 2);\n",
    "mplot(m) |> mconf()"
   ]
  },
  {
   "cell_type": "markdown",
   "metadata": {},
   "source": [
    "## Referenzwerte"
   ]
  },
  {
   "cell_type": "code",
   "execution_count": 3,
   "metadata": {},
   "outputs": [],
   "source": [
    "ke_ref = [\n",
    "     1.39122807 -1.19736842 -0.19385965\n",
    "    -1.19736842  1.33421053 -0.13684211\n",
    "    -0.19385965 -0.13684211  0.33070175\n",
    "]\n",
    "re_ref = [1.9475, 1.9475, 1.9475];"
   ]
  },
  {
   "cell_type": "markdown",
   "metadata": {},
   "source": [
    "## Berechnung und Vergleich"
   ]
  },
  {
   "cell_type": "markdown",
   "metadata": {},
   "source": [
    "### Elementmatrix"
   ]
  },
  {
   "cell_type": "code",
   "execution_count": null,
   "metadata": {},
   "outputs": [],
   "source": [
    "kef = heat_ke(1.3)\n",
    "ke = kef(element(m, 1))\n",
    "\n",
    "println(\"Ke = \", ke)\n",
    "println(\"Elementmatrix OK: \", ke ≈ ke_ref)"
   ]
  },
  {
   "cell_type": "markdown",
   "metadata": {},
   "source": [
    "### Elementvektor"
   ]
  },
  {
   "cell_type": "code",
   "execution_count": null,
   "metadata": {},
   "outputs": [],
   "source": [
    "ref = heat_re(4.1)\n",
    "re = ref(element(m, 1))\n",
    "\n",
    "println(\"\\nre =\", re)\n",
    "println(\"Elementvektor OK: \", re ≈ re_ref)"
   ]
  }
 ],
 "metadata": {
  "kernelspec": {
   "display_name": "Julia 1.10.5",
   "language": "julia",
   "name": "julia-1.10"
  },
  "language_info": {
   "file_extension": ".jl",
   "mimetype": "application/julia",
   "name": "julia",
   "version": "1.10.5"
  },
  "orig_nbformat": 4,
  "vscode": {
   "interpreter": {
    "hash": "b0fa6594d8f4cbf19f97940f81e996739fb7646882a419484c72d19e05852a7e"
   }
  }
 },
 "nbformat": 4,
 "nbformat_minor": 2
}
