{
  "cells": [
    {
      "cell_type": "markdown",
      "metadata": {},
      "source": [
        "---\n",
        "title: Aufgabenblatt 4\n",
        "jupyter: julia-1.10\n",
        "---"
      ]
    },
    {
      "cell_type": "code",
      "metadata": {},
      "source": [
        "# Einmal ausführen\n",
        "# using Pkg\n",
        "# Pkg.update(\"MMJMesh\")\n",
        "\n",
        "using DotMaps\n",
        "import CairoMakie\n",
        "using IntervalSets\n",
        "\n",
        "using MMJMesh.Plots\n",
        "using MMJMesh.Meshes"
      ],
      "execution_count": null,
      "outputs": []
    },
    {
      "cell_type": "markdown",
      "metadata": {},
      "source": [
        "Problemparameter"
      ]
    },
    {
      "cell_type": "code",
      "metadata": {},
      "source": [
        "p = DotMap()\n",
        "p.E = 35e9\n",
        "p.d = 0.8\n",
        "p.l = 20\n",
        "p.F = 2e6\n",
        "p.ρ = 2500\n",
        "p.g = 9.81\n",
        "p.S = 120e6\n",
        "p.c = 1.75e7\n",
        "p.Ω = 0 .. p.l\n",
        "p.C = p.c * π * p.d\n",
        "p.A = π * p.d^2 / 4\n",
        "p.EA = p.E * p.A\n",
        "p.n = p.ρ * p.g * p.A;"
      ],
      "execution_count": null,
      "outputs": []
    },
    {
      "cell_type": "markdown",
      "metadata": {},
      "source": [
        "Netz zum Testen"
      ]
    },
    {
      "cell_type": "code",
      "metadata": {},
      "source": [
        "m = Mesh(p.Ω, 4)\n",
        "mplot(m) |> mconf()"
      ],
      "execution_count": null,
      "outputs": []
    },
    {
      "cell_type": "markdown",
      "metadata": {},
      "source": [
        "## Steifigkeitsmatrix und Lastvektor für ein Element\n",
        "\n",
        "### Steifigkeitsmatrix"
      ]
    },
    {
      "cell_type": "code",
      "metadata": {},
      "source": [
        "function pile_ke(EA, C)\n",
        "    function kefunc(e)\n",
        "        # TODO: Ke berechnen\n",
        "        println(\"h = \", length(e))\n",
        "        return 99\n",
        "    end\n",
        "    return kefunc\n",
        "end\n",
        "\n",
        "kef = pile_ke(p.EA, p.C)\n",
        "kef(element(m, 1))"
      ],
      "execution_count": null,
      "outputs": []
    },
    {
      "cell_type": "markdown",
      "metadata": {},
      "source": [
        "### Lastvektor"
      ]
    },
    {
      "cell_type": "code",
      "metadata": {},
      "source": [
        "# TODO: Lastvektor analog zur Steifigkeitsmatrix"
      ],
      "execution_count": null,
      "outputs": []
    },
    {
      "cell_type": "markdown",
      "metadata": {},
      "source": [
        "## Assemblierungsmatrix und Indexvektor"
      ]
    },
    {
      "cell_type": "code",
      "metadata": {},
      "source": [
        "# TODO Siehe Aufgabenstellung"
      ],
      "execution_count": null,
      "outputs": []
    },
    {
      "cell_type": "markdown",
      "metadata": {},
      "source": [
        "## Lineares Gleichungssystem"
      ]
    },
    {
      "cell_type": "code",
      "metadata": {},
      "source": [
        "function assemble_kr(m::Mesh)\n",
        "    for e = elements(m)\n",
        "        kef = e.data[:kefunc]\n",
        "        Ke = kef(e)\n",
        "        println(Ke)\n",
        "    end\n",
        "    return 1, 2\n",
        "end\n",
        "\n",
        "# Eigenschaften :kefunc und :refunc für alle Elemente definieren\n",
        "m.data[:kefunc, :elements] = pile_ke(p.EA, p.C)\n",
        "# m.data[:refunc, :elements] = pile_re(p.n)\n",
        "\n",
        "K, r = assemble_kr(m)"
      ],
      "execution_count": null,
      "outputs": []
    },
    {
      "cell_type": "markdown",
      "metadata": {},
      "source": [
        "Wird noch ergänzt"
      ]
    }
  ],
  "metadata": {
    "kernelspec": {
      "name": "julia-1.10",
      "language": "julia",
      "display_name": "Julia 1.10.5",
      "path": "/Users/maba/Library/Jupyter/kernels/julia-1.10"
    }
  },
  "nbformat": 4,
  "nbformat_minor": 4
}