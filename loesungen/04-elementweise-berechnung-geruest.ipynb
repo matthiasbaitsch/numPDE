{
  "cells": [
    {
      "cell_type": "markdown",
      "metadata": {},
      "source": [
        "---\n",
        "title: Aufgabenblatt 4\n",
        "jupyter: julia-1.10\n",
        "---\n",
        "\n",
        "Pakete einbinden"
      ]
    },
    {
      "cell_type": "code",
      "metadata": {},
      "source": [
        "# Einmal ausführen, danach auskommentieren\n",
        "using Pkg\n",
        "Pkg.update(\"MMJMesh\")\n",
        "\n",
        "using DotMaps\n",
        "import CairoMakie\n",
        "using IntervalSets\n",
        "\n",
        "using MMJMesh.Plots\n",
        "using MMJMesh.Meshes"
      ],
      "execution_count": null,
      "outputs": []
    },
    {
      "cell_type": "markdown",
      "metadata": {},
      "source": [
        "Problemparameter"
      ]
    },
    {
      "cell_type": "code",
      "metadata": {},
      "source": [
        "p = DotMap()\n",
        "p.E = 35e9\n",
        "p.d = 0.8\n",
        "p.l = 20\n",
        "p.F = 2e6\n",
        "p.ρ = 2500\n",
        "p.g = 9.81\n",
        "p.S = 120e6\n",
        "p.c = 1.75e7\n",
        "p.Ω = 0 .. p.l\n",
        "p.C = p.c * π * p.d\n",
        "p.A = π * p.d^2 / 4\n",
        "p.EA = p.E * p.A\n",
        "p.n = p.ρ * p.g * p.A;"
      ],
      "execution_count": null,
      "outputs": []
    },
    {
      "cell_type": "markdown",
      "metadata": {},
      "source": [
        "Beispiel für FE-Netz"
      ]
    },
    {
      "cell_type": "code",
      "metadata": {},
      "source": [
        "m = Mesh(p.Ω, 40)\n",
        "mplot(m) |> mconf()"
      ],
      "execution_count": null,
      "outputs": []
    },
    {
      "cell_type": "markdown",
      "metadata": {},
      "source": [
        "## Vorbereitung\n",
        "\n",
        "Siehe Aufgabenstellung\n",
        "\n",
        "## Steifigkeitsmatrix und Lastvektor für ein Element\n",
        "\n",
        "Elementsteifigkeitsmatrix"
      ]
    },
    {
      "cell_type": "code",
      "metadata": {},
      "source": [
        "# TODO: pile_ke implementieren und testen"
      ],
      "execution_count": null,
      "outputs": []
    },
    {
      "cell_type": "markdown",
      "metadata": {},
      "source": [
        "Elementlastvektor"
      ]
    },
    {
      "cell_type": "code",
      "metadata": {},
      "source": [
        "# TODO: Lastvektor analog zur Steifigkeitsmatrix"
      ],
      "execution_count": null,
      "outputs": []
    },
    {
      "cell_type": "markdown",
      "metadata": {},
      "source": [
        "## Vorbereitung\n",
        "\n",
        "Siehe Aufgabenstellung\n",
        "\n",
        "## Lineares Gleichungssystem"
      ]
    },
    {
      "cell_type": "code",
      "metadata": {},
      "source": [
        "# TODO: assemble_kr implementieren und testen"
      ],
      "execution_count": null,
      "outputs": []
    }
  ],
  "metadata": {
    "kernelspec": {
      "name": "julia-1.10",
      "language": "julia",
      "display_name": "Julia 1.10.5",
      "path": "/Users/maba/Library/Jupyter/kernels/julia-1.10"
    }
  },
  "nbformat": 4,
  "nbformat_minor": 4
}