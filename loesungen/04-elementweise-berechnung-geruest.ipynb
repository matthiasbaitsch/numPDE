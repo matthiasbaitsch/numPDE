{
  "cells": [
    {
      "cell_type": "markdown",
      "metadata": {},
      "source": [
        "---\n",
        "title: Aufgabenblatt 4\n",
        "jupyter: julia-1.10\n",
        "---\n",
        "\n",
        "Pakete einbinden"
      ]
    },
    {
      "cell_type": "code",
      "metadata": {},
      "source": [
        "# Einmal ausführen, danach auskommentieren\n",
        "# using Pkg\n",
        "# Pkg.update(\"MMJMesh\")\n",
        "\n",
        "using DotMaps\n",
        "import CairoMakie\n",
        "using IntervalSets\n",
        "\n",
        "using MMJMesh.Plots\n",
        "using MMJMesh.Meshes"
      ],
      "execution_count": null,
      "outputs": []
    },
    {
      "cell_type": "markdown",
      "metadata": {},
      "source": [
        "Beispiel für FE-Netz"
      ]
    },
    {
      "cell_type": "code",
      "metadata": {},
      "source": [
        "m = Mesh(0 .. 20, 40)\n",
        "mplot(m) |> mconf()"
      ],
      "execution_count": null,
      "outputs": []
    },
    {
      "cell_type": "markdown",
      "metadata": {},
      "source": [
        "## Vorbereitung\n",
        "\n",
        "Siehe Aufgabenstellung\n",
        "\n",
        "## Steifigkeitsmatrix und Lastvektor für ein Element\n",
        "\n",
        "Elementsteifigkeitsmatrix"
      ]
    },
    {
      "cell_type": "code",
      "metadata": {},
      "source": [
        "# TODO: pile_ke implementieren und testen"
      ],
      "execution_count": null,
      "outputs": []
    },
    {
      "cell_type": "markdown",
      "metadata": {},
      "source": [
        "Elementlastvektor"
      ]
    },
    {
      "cell_type": "code",
      "metadata": {},
      "source": [
        "# TODO: Lastvektor analog zur Steifigkeitsmatrix"
      ],
      "execution_count": null,
      "outputs": []
    },
    {
      "cell_type": "markdown",
      "metadata": {},
      "source": [
        "## Vorbereitung\n",
        "\n",
        "Siehe Aufgabenstellung\n",
        "\n",
        "## Lineares Gleichungssystem"
      ]
    },
    {
      "cell_type": "code",
      "metadata": {},
      "source": [
        "# TODO: assemble_kr implementieren und testen"
      ],
      "execution_count": null,
      "outputs": []
    }
  ],
  "metadata": {
    "kernelspec": {
      "name": "julia-1.10",
      "language": "julia",
      "display_name": "Julia 1.10.5",
      "path": "/Users/maba/Library/Jupyter/kernels/julia-1.10"
    }
  },
  "nbformat": 4,
  "nbformat_minor": 4
}