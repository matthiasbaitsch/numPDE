{
 "cells": [
  {
   "attachments": {},
   "cell_type": "markdown",
   "metadata": {},
   "source": [
    "# Circular heat plate"
   ]
  },
  {
   "cell_type": "code",
   "execution_count": 12,
   "metadata": {},
   "outputs": [],
   "source": [
    "using MMJMesh\n",
    "using MMJMesh.Meshes\n",
    "using MMJMesh.Plots\n",
    "using LinearAlgebra\n",
    "using SparseArrays\n",
    "using CairoMakie: spy, update_theme!\n",
    "\n",
    "include(\"fem.jl\")\n",
    "include(\"heat.jl\")\n",
    "\n",
    "update_theme!(colormap=:acton)"
   ]
  },
  {
   "cell_type": "markdown",
   "metadata": {},
   "source": [
    "## Parameters"
   ]
  },
  {
   "cell_type": "code",
   "execution_count": null,
   "metadata": {},
   "outputs": [],
   "source": [
    "p = (\n",
    "    r = 2.2,\n",
    "    λ = 2.19,\n",
    "    w = 1.96\n",
    ")"
   ]
  },
  {
   "attachments": {},
   "cell_type": "markdown",
   "metadata": {},
   "source": [
    "## Mesh"
   ]
  },
  {
   "cell_type": "code",
   "execution_count": null,
   "metadata": {},
   "outputs": [],
   "source": [
    "m = Mesh(\"gmsh/heat-plate.msh\")\n",
    "mplot(m, edgesvisible=true) |> mconf()"
   ]
  },
  {
   "attachments": {},
   "cell_type": "markdown",
   "metadata": {},
   "source": [
    "## Solution\n",
    "\n",
    "### Define problem"
   ]
  },
  {
   "cell_type": "code",
   "execution_count": null,
   "metadata": {},
   "outputs": [],
   "source": [
    "setdata!(group(m, :elements), :ke_func, heat_ke(p.λ))\n",
    "setdata!(group(m, :elements), :re_func, heat_re(p.w))"
   ]
  },
  {
   "attachments": {},
   "cell_type": "markdown",
   "metadata": {},
   "source": [
    "### Set up linear system"
   ]
  },
  {
   "cell_type": "code",
   "execution_count": 16,
   "metadata": {},
   "outputs": [],
   "source": [
    "K, r = assemble_kr(m)\n",
    "apply_dirichlet_bcs!(K, r, group(m, :boundarynodes))"
   ]
  },
  {
   "attachments": {},
   "cell_type": "markdown",
   "metadata": {},
   "source": [
    "### Solve\n",
    "\n",
    "Linear system"
   ]
  },
  {
   "cell_type": "code",
   "execution_count": 17,
   "metadata": {},
   "outputs": [],
   "source": [
    "θHat =  K \\ r;"
   ]
  },
  {
   "attachments": {},
   "cell_type": "markdown",
   "metadata": {},
   "source": [
    "Comparison to exact solution"
   ]
  },
  {
   "cell_type": "code",
   "execution_count": null,
   "metadata": {},
   "outputs": [],
   "source": [
    "thetaMax = p.w * p.r^2 / (4 * p.λ)\n",
    "thetaMaxH = maximum(θHat)\n",
    "\n",
    "println(\"         Exact solution: thethaMax = \", thetaMax)\n",
    "println(\"Finite element solution: thethaMax = \", thetaMaxH)\n",
    "println(\"                             Error = \", 100 * abs(thetaMaxH - thetaMax) / thetaMax, \"%\")"
   ]
  },
  {
   "attachments": {},
   "cell_type": "markdown",
   "metadata": {},
   "source": [
    "### Plot"
   ]
  },
  {
   "cell_type": "code",
   "execution_count": null,
   "metadata": {},
   "outputs": [],
   "source": [
    "mplot(m, θHat, edgesvisible=true, edgecolor=:black) |> mconf()"
   ]
  },
  {
   "cell_type": "code",
   "execution_count": null,
   "metadata": {},
   "outputs": [],
   "source": [
    "θ = p.w / (4 * p.λ) * (p.r^2 .- [norm(coordinates(m, i))^2 for i ∈ 1:nnodes(m)]) \n",
    "e = abs.(θHat - θ)\n",
    "println(\"Maximum error: \", maximum(e))\n",
    "mplot(m, e) |> mconf()"
   ]
  },
  {
   "cell_type": "markdown",
   "metadata": {},
   "source": [
    "## Sparse Matrix"
   ]
  },
  {
   "cell_type": "code",
   "execution_count": null,
   "metadata": {},
   "outputs": [],
   "source": [
    "using SparseArrays\n",
    "KSparse = sparse(K)\n",
    "@time That =  K \\ r;\n",
    "@time That =  KSparse \\ r;\n"
   ]
  },
  {
   "cell_type": "code",
   "execution_count": null,
   "metadata": {},
   "outputs": [],
   "source": [
    "using CairoMakie: spy, hidedecorations!, hidespines!, Colorbar, DataAspect\n",
    "sp = spy(sparse(K), markersize=6, marker=:circle) \n",
    "hidedecorations!(sp.axis)\n",
    "hidespines!(sp.axis)\n",
    "Colorbar(sp.figure[1, 2])\n",
    "sp.axis.yreversed = true\n",
    "sp.axis.aspect = DataAspect()\n",
    "sp"
   ]
  },
  {
   "cell_type": "markdown",
   "metadata": {},
   "source": []
  }
 ],
 "metadata": {
  "kernelspec": {
   "display_name": "Julia 1.11.2",
   "language": "julia",
   "name": "julia-1.11"
  },
  "language_info": {
   "file_extension": ".jl",
   "mimetype": "application/julia",
   "name": "julia",
   "version": "1.11.2"
  },
  "orig_nbformat": 4
 },
 "nbformat": 4,
 "nbformat_minor": 2
}
