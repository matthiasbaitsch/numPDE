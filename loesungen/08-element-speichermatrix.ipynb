{
 "cells": [
  {
   "cell_type": "markdown",
   "metadata": {},
   "source": [
    "# Elementspeichermatrix mit Symbolics.jl und SymbolicNumericIntegration.jl"
   ]
  },
  {
   "cell_type": "code",
   "execution_count": 23,
   "metadata": {},
   "outputs": [
    {
     "data": {
      "text/plain": [
       "3×3 Matrix{Rational{Int64}}:\n",
       " 1//12  1//24  1//24\n",
       " 1//24  1//12  1//24\n",
       " 1//24  1//24  1//12"
      ]
     },
     "metadata": {},
     "output_type": "display_data"
    }
   ],
   "source": [
    "using Symbolics\n",
    "using SymbolicNumericIntegration\n",
    "\n",
    "# Kurzschreibweise für symbolische Integration\n",
    "integrates(f, d) = integrate(f, d, symbolic=true, detailed=false)\n",
    "\n",
    "# Symbolische Variablen\n",
    "@syms xi1 xi2\n",
    "\n",
    "# Elementfunktionen auf Referenzdreieck\n",
    "Nhat = [xi1, xi2, 1 - xi1 - xi2]\n",
    "\n",
    "# Element-Bilinearform für Massenmatrix\n",
    "am(Nhati, NHatj) = integrates(integrates(Nhati * NHatj, (xi2, 0, 1 - xi1)), (xi1, 0, 1))\n",
    "\n",
    "# Massenmatrix ausrechnen\n",
    "Me = [am(Nhati, Nhatj) for Nhati = Nhat, Nhatj = Nhat]"
   ]
  },
  {
   "cell_type": "markdown",
   "metadata": {},
   "source": []
  }
 ],
 "metadata": {
  "kernelspec": {
   "display_name": "Julia 1.11.2",
   "language": "julia",
   "name": "julia-1.11"
  },
  "language_info": {
   "file_extension": ".jl",
   "mimetype": "application/julia",
   "name": "julia",
   "version": "1.11.2"
  }
 },
 "nbformat": 4,
 "nbformat_minor": 2
}
