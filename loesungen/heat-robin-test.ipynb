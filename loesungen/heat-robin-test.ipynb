{
 "cells": [
  {
   "cell_type": "markdown",
   "metadata": {},
   "source": [
    "# Test der Elementfunktionen Robin-Randbedingungen für Wärmeleitung"
   ]
  },
  {
   "cell_type": "code",
   "execution_count": null,
   "metadata": {},
   "outputs": [],
   "source": [
    "using MMJMesh\n",
    "using MMJMesh.Meshes\n",
    "include(\"heat.jl\")"
   ]
  },
  {
   "cell_type": "markdown",
   "metadata": {},
   "source": [
    "## Netz mit einer Kante"
   ]
  },
  {
   "cell_type": "code",
   "execution_count": null,
   "metadata": {},
   "outputs": [],
   "source": [
    "m = Mesh([1.1 3.2; 0.2 5.8], [[1, 2]], 1)"
   ]
  },
  {
   "cell_type": "markdown",
   "metadata": {},
   "source": [
    "## Referenzwerte"
   ]
  },
  {
   "cell_type": "code",
   "execution_count": 8,
   "metadata": {},
   "outputs": [],
   "source": [
    "ke_ref = [\n",
    "    6.578882883894498 3.289441441947249\n",
    "    3.289441441947249 6.578882883894498\n",
    "]\n",
    "re_ref = [14.802486488762620, 14.802486488762620];"
   ]
  },
  {
   "cell_type": "markdown",
   "metadata": {},
   "source": [
    "## Berechnung und Vergleich"
   ]
  },
  {
   "cell_type": "markdown",
   "metadata": {},
   "source": [
    "### Elementmatrix"
   ]
  },
  {
   "cell_type": "code",
   "execution_count": null,
   "metadata": {},
   "outputs": [],
   "source": [
    "kef = robin_ke(3.3)\n",
    "ke = kef(edge(m, 1))\n",
    "\n",
    "println(\"Ke = \", ke)\n",
    "println(\"Elementmatrix OK: \", ke ≈ ke_ref)"
   ]
  },
  {
   "cell_type": "markdown",
   "metadata": {},
   "source": [
    "### Elementvektor"
   ]
  },
  {
   "cell_type": "code",
   "execution_count": null,
   "metadata": {},
   "outputs": [],
   "source": [
    "ref = robin_re(3.3, 1.5)\n",
    "re = ref(edge(m, 1))\n",
    "\n",
    "println(\"re =\", re)\n",
    "println(\"Elementvektor OK: \", re ≈ re_ref)"
   ]
  }
 ],
 "metadata": {
  "interpreter": {
   "hash": "f3d2abbc107c63ca577c819933080c8e0aff9672750e85650b4bb8da95fe96d1"
  },
  "kernelspec": {
   "display_name": "Julia 1.11.2",
   "language": "julia",
   "name": "julia-1.11"
  },
  "language_info": {
   "file_extension": ".jl",
   "mimetype": "application/julia",
   "name": "julia",
   "version": "1.11.2"
  },
  "orig_nbformat": 4
 },
 "nbformat": 4,
 "nbformat_minor": 2
}
