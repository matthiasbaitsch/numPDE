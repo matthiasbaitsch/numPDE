{
 "cells": [
  {
   "attachments": {},
   "cell_type": "markdown",
   "metadata": {},
   "source": [
    "# Verification problem\n",
    "\n",
    "Verification of transient solution of 1D rod from the [NAFEMS](https://www.nafems.org) test suite, see section \"1D Single Equation\" on [wolfram.com](https://reference.wolfram.com/language/PDEModels/tutorial/HeatTransfer/HeatTransferVerificationTests.html)."
   ]
  },
  {
   "cell_type": "code",
   "execution_count": 20,
   "metadata": {},
   "outputs": [],
   "source": [
    "using MMJMesh\n",
    "using MMJMesh.Plots\n",
    "using MMJMesh.Meshes\n",
    "using MMJMesh.Utilities\n",
    "using MMJMesh.Geometries\n",
    "\n",
    "import Plots\n",
    "import CairoMakie\n",
    "using ProgressLogging\n",
    "using DifferentialEquations\n",
    "\n",
    "include(\"fem.jl\")\n",
    "include(\"heat.jl\")\n",
    "CairoMakie.update_theme!(colormap=:acton)"
   ]
  },
  {
   "cell_type": "markdown",
   "metadata": {},
   "source": [
    "## Mesh"
   ]
  },
  {
   "cell_type": "code",
   "execution_count": null,
   "metadata": {},
   "outputs": [],
   "source": [
    "m = Mesh(\"gmsh/thermal-equilibrium.msh\")\n",
    "\n",
    "nl = [i for i = nodeindices(m) if coordinate(node(m, i), 1) < 0.1]\n",
    "nr = [i for i = nodeindices(m) if coordinate(node(m, i), 1) > 0.1]\n",
    "\n",
    "p = mplot(m, edgesvisible=true) |> mconf()\n",
    "CairoMakie.scatter!(coordinates(m, nl), color=:hotpink)\n",
    "CairoMakie.scatter!(coordinates(m, nr), color=:steelblue)\n",
    "p\n"
   ]
  },
  {
   "cell_type": "markdown",
   "metadata": {},
   "source": [
    "## Element functions"
   ]
  },
  {
   "cell_type": "code",
   "execution_count": 4,
   "metadata": {},
   "outputs": [],
   "source": [
    "setdata!(group(m, :elements), :ke_func, heat_ke(401))\n",
    "setdata!(group(m, :elements), :me_func, heat_me(8960, 3850))"
   ]
  },
  {
   "cell_type": "markdown",
   "metadata": {},
   "source": [
    "## Initial condition"
   ]
  },
  {
   "cell_type": "code",
   "execution_count": null,
   "metadata": {},
   "outputs": [],
   "source": [
    "t0 = zeros(nnodes(m))\n",
    "t0[nl] .= -10\n",
    "t0[nr] .= 10\n",
    "\n",
    "mplot(m, t0) |> mconf()"
   ]
  },
  {
   "cell_type": "markdown",
   "metadata": {},
   "source": [
    "### Solve initial value problem\n",
    "\n",
    "#### ODE function"
   ]
  },
  {
   "cell_type": "code",
   "execution_count": 7,
   "metadata": {},
   "outputs": [],
   "source": [
    "K, M, r = assemble_kmr(m)\n",
    "F(ΘHat, _, t) = -K * ΘHat\n",
    "JF(_, _, _) = -K\n",
    "FM = ODEFunction(F, jac=JF, mass_matrix=M);"
   ]
  },
  {
   "attachments": {},
   "cell_type": "markdown",
   "metadata": {},
   "source": [
    "#### Solve initial value problem"
   ]
  },
  {
   "cell_type": "code",
   "execution_count": null,
   "metadata": {},
   "outputs": [],
   "source": [
    "luM = lu(M)\n",
    "F(ΘHat, _, t) =  luM \\ (-K * ΘHat)\n",
    "\n",
    "p = ODEProblem(F, t0, (0.0, 3600.0))\n",
    "@time s2 = solve(p, Euler(), dt=0.1)\n",
    "Plots.plot(s2, legend=false)"
   ]
  },
  {
   "cell_type": "code",
   "execution_count": null,
   "metadata": {},
   "outputs": [],
   "source": [
    "p = ODEProblem(F, t0, (0.0, 3600.0))\n",
    "@time s = solve(p, Trapezoid(), progress=true)\n",
    "Plots.plot(s, legend=false)"
   ]
  },
  {
   "cell_type": "markdown",
   "metadata": {},
   "source": [
    "## Plot results"
   ]
  },
  {
   "cell_type": "code",
   "execution_count": null,
   "metadata": {},
   "outputs": [],
   "source": [
    "mplot(m, s.u[end]) |> mconf()"
   ]
  }
 ],
 "metadata": {
  "kernelspec": {
   "display_name": "Julia 1.11.2",
   "language": "julia",
   "name": "julia-1.11"
  },
  "language_info": {
   "file_extension": ".jl",
   "mimetype": "application/julia",
   "name": "julia",
   "version": "1.11.2"
  },
  "orig_nbformat": 4,
  "vscode": {
   "interpreter": {
    "hash": "5c7b89af1651d0b8571dde13640ecdccf7d5a6204171d6ab33e7c296e100e08a"
   }
  }
 },
 "nbformat": 4,
 "nbformat_minor": 2
}
