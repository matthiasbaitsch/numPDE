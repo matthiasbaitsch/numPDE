{
 "cells": [
  {
   "attachments": {},
   "cell_type": "markdown",
   "metadata": {},
   "source": [
    "# Verification problem\n",
    "\n",
    "Verification of transient solution of 1D rod from the [NAFEMS](https://www.nafems.org) test suite, see section \"1D Single Equation\" on [wolfram.com](https://reference.wolfram.com/language/PDEModels/tutorial/HeatTransfer/HeatTransferVerificationTests.html)."
   ]
  },
  {
   "cell_type": "code",
   "execution_count": 31,
   "metadata": {},
   "outputs": [],
   "source": [
    "using MMJMesh\n",
    "using MMJMesh.Plots\n",
    "using MMJMesh.Meshes\n",
    "using MMJMesh.Utilities\n",
    "using MMJMesh.Geometries\n",
    "\n",
    "import Plots\n",
    "import CairoMakie\n",
    "using DifferentialEquations\n",
    "\n",
    "include(\"fem.jl\")\n",
    "include(\"heat.jl\")\n",
    "CairoMakie.update_theme!(colormap=:acton)"
   ]
  },
  {
   "cell_type": "markdown",
   "metadata": {},
   "source": [
    "## Mesh"
   ]
  },
  {
   "cell_type": "code",
   "execution_count": null,
   "metadata": {},
   "outputs": [],
   "source": [
    "m = Mesh(\"gmsh/rod.msh\")\n",
    "mplot(m, edgesvisible=true) |> mconf()"
   ]
  },
  {
   "cell_type": "markdown",
   "metadata": {},
   "source": [
    "## Element functions"
   ]
  },
  {
   "cell_type": "code",
   "execution_count": 33,
   "metadata": {},
   "outputs": [],
   "source": [
    "setdata!(group(m, :elements), :ke_func, heat_ke(35))\n",
    "setdata!(group(m, :elements), :me_func, heat_me(7200, 440.5))"
   ]
  },
  {
   "cell_type": "markdown",
   "metadata": {},
   "source": [
    "## Boundary conditions\n",
    "\n",
    "We use Robin BCs in order to impose Dirichlet BCs using a large value for the heat transfer coefficient  als penalty parameter."
   ]
  },
  {
   "cell_type": "code",
   "execution_count": 34,
   "metadata": {},
   "outputs": [],
   "source": [
    "pen = 1e10\n",
    "setdata!(group(m, :bl), :ke_func, robin_ke(pen))\n",
    "setdata!(group(m, :bl), :re_func, robin_re(pen, 1))\n",
    "setdata!(group(m, :br), :ke_func, robin_ke(pen))"
   ]
  },
  {
   "cell_type": "markdown",
   "metadata": {},
   "source": [
    "## Initial condition"
   ]
  },
  {
   "cell_type": "code",
   "execution_count": 35,
   "metadata": {},
   "outputs": [],
   "source": [
    "t0 = zeros(nnodes(m));"
   ]
  },
  {
   "cell_type": "markdown",
   "metadata": {},
   "source": [
    "### Solve initial value problem\n",
    "\n",
    "Based on: https://docs.sciml.ai/DiffEqDocs/stable/tutorials/faster_ode_example/\n",
    "\n",
    "#### ODE function"
   ]
  },
  {
   "cell_type": "code",
   "execution_count": 43,
   "metadata": {},
   "outputs": [],
   "source": [
    "K, M, r = assemble_kmr(m)\n",
    "F(ΘHat, _, t) = -K * ΘHat + 100 * sin(pi * t / 40) * r\n",
    "JF(_, _, _) = -K\n",
    "FM = ODEFunction(F, mass_matrix=M, jac=JF);"
   ]
  },
  {
   "attachments": {},
   "cell_type": "markdown",
   "metadata": {},
   "source": [
    "#### Solve initial value problem"
   ]
  },
  {
   "cell_type": "code",
   "execution_count": null,
   "metadata": {},
   "outputs": [],
   "source": [
    "p = ODEProblem(FM, t0, (0, 32))\n",
    "@time s = solve(p, QNDF())\n",
    "Plots.plot(s, legend=false)"
   ]
  },
  {
   "attachments": {},
   "cell_type": "markdown",
   "metadata": {},
   "source": [
    "Use Euler's method (just to try it, not accurate)"
   ]
  },
  {
   "cell_type": "code",
   "execution_count": null,
   "metadata": {},
   "outputs": [],
   "source": [
    "pen = 1e4\n",
    "setdata!(group(m, :bl), :ke_func, robin_ke(pen))\n",
    "setdata!(group(m, :bl), :re_func, robin_re(pen, 1))\n",
    "setdata!(group(m, :br), :ke_func, robin_ke(pen))\n",
    "\n",
    "K, M, r = assemble_kmr(m)\n",
    "\n",
    "luM = lu(M)\n",
    "F(ΘHat, _, t) =  luM \\ (-K * ΘHat + 100 * sin(pi * t / 40) * r)\n",
    "\n",
    "p = ODEProblem(F, t0, (0.0, 32.0))\n",
    "@time s2 = solve(p, Euler(), dt=0.01)\n",
    "Plots.plot(s2, legend=false)"
   ]
  },
  {
   "cell_type": "markdown",
   "metadata": {},
   "source": [
    "## Plot results"
   ]
  },
  {
   "cell_type": "code",
   "execution_count": null,
   "metadata": {},
   "outputs": [],
   "source": [
    "mplot(m, s.u[end]) |> mconf()"
   ]
  },
  {
   "cell_type": "markdown",
   "metadata": {},
   "source": [
    "## Compare to reference value\n",
    "\n",
    "The relative error should be smaller than one permille."
   ]
  },
  {
   "cell_type": "code",
   "execution_count": null,
   "metadata": {},
   "outputs": [],
   "source": [
    "tref = 36.6\n",
    "tact = s.u[end][nodeindex(m, on(Point(0.02, 0.005)))]\n",
    "error = abs(tref - tact) / tref\n",
    "\n",
    "# Print results\n",
    "println(\"   Temperature: \", tact)\n",
    "println(\"Relative error: \", error)\n",
    "println(\"   Test passed: \", error < 1e-3)\n"
   ]
  }
 ],
 "metadata": {
  "kernelspec": {
   "display_name": "Julia 1.11.2",
   "language": "julia",
   "name": "julia-1.11"
  },
  "language_info": {
   "file_extension": ".jl",
   "mimetype": "application/julia",
   "name": "julia",
   "version": "1.11.2"
  },
  "orig_nbformat": 4,
  "vscode": {
   "interpreter": {
    "hash": "5c7b89af1651d0b8571dde13640ecdccf7d5a6204171d6ab33e7c296e100e08a"
   }
  }
 },
 "nbformat": 4,
 "nbformat_minor": 2
}
